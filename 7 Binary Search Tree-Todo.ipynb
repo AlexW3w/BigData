{
 "cells": [
  {
   "cell_type": "markdown",
   "metadata": {},
   "source": [
    "Animation: https://www.cs.usfca.edu/~galles/visualization/BST.html"
   ]
  },
  {
   "cell_type": "code",
   "execution_count": 221,
   "metadata": {},
   "outputs": [],
   "source": [
    "class Node:\n",
    "    \"\"\"\n",
    "    Tree node with left and right child and data\n",
    "    \"\"\"\n",
    "    def __init__(self, data):\n",
    "        # TODO\n",
    "        self.left = None\n",
    "        self.data = data\n",
    "        self.right = None\n",
    "        \n",
    "    def insert (self,data):\n",
    "        if self.data == data:\n",
    "            return False\n",
    "        elif self.data > data:\n",
    "            if self.left:\n",
    "                return self.left.insert(data)\n",
    "            else:\n",
    "                self.left = Node(data)\n",
    "                return True\n",
    "        else:\n",
    "            if self.right:\n",
    "                return self.right.insert(data)\n",
    "            else:\n",
    "                self.right = Node (data)\n",
    "                return True  \n",
    "            \n",
    "    def find(self,data):\n",
    "        if (self.data == data):\n",
    "            return True\n",
    "        elif self.data > data:\n",
    "            if self.left:\n",
    "                return self.left.find(data)\n",
    "            else:\n",
    "                return False\n",
    "        else:\n",
    "            if self.right:\n",
    "                return self.right.find(data)\n",
    "            else:\n",
    "                return False\n",
    "        \n",
    "        \n",
    "    "
   ]
  },
  {
   "cell_type": "code",
   "execution_count": 227,
   "metadata": {},
   "outputs": [],
   "source": [
    "class Tree:\n",
    "    def __init__(self):\n",
    "        \"\"\"Create an empty binary search tree\"\"\"\n",
    "        # TODO\n",
    "        self.root = None\n",
    "    def insert(self,data): \n",
    "        if self.root:\n",
    "            return self.root.insert(data)\n",
    "        else: \n",
    "            self.root=Node(data)\n",
    "            return True\n",
    "    def find(self,data):\n",
    "        if self.root:\n",
    "            return self.root.find(data)\n",
    "        else:\n",
    "            return False\n",
    "    "
   ]
  },
  {
   "cell_type": "code",
   "execution_count": null,
   "metadata": {},
   "outputs": [],
   "source": []
  },
  {
   "cell_type": "code",
   "execution_count": 228,
   "metadata": {},
   "outputs": [
    {
     "data": {
      "text/plain": [
       "True"
      ]
     },
     "execution_count": 228,
     "metadata": {},
     "output_type": "execute_result"
    }
   ],
   "source": [
    "tree = Tree()\n",
    "\n",
    "tree.insert(30)\n",
    "tree.insert(5)\n",
    "tree.insert(50)\n",
    "tree.insert(8)\n",
    "tree.insert(3)\n",
    "tree.insert(100)\n",
    "tree.insert(40)\n"
   ]
  },
  {
   "cell_type": "code",
   "execution_count": 229,
   "metadata": {},
   "outputs": [
    {
     "data": {
      "text/plain": [
       "True"
      ]
     },
     "execution_count": 229,
     "metadata": {},
     "output_type": "execute_result"
    }
   ],
   "source": [
    "tree.find(50)"
   ]
  },
  {
   "cell_type": "code",
   "execution_count": 207,
   "metadata": {},
   "outputs": [
    {
     "data": {
      "text/plain": [
       "False"
      ]
     },
     "execution_count": 207,
     "metadata": {},
     "output_type": "execute_result"
    }
   ],
   "source": [
    "tree.find(9)"
   ]
  },
  {
   "cell_type": "markdown",
   "metadata": {},
   "source": [
    "## Why is the worst case time complexity of the find method only $O(n)$ and not $O(log n)$?"
   ]
  },
  {
   "cell_type": "code",
   "execution_count": null,
   "metadata": {
    "collapsed": true
   },
   "outputs": [],
   "source": []
  }
 ],
 "metadata": {
  "kernelspec": {
   "display_name": "Python 3",
   "language": "python",
   "name": "python3"
  },
  "language_info": {
   "codemirror_mode": {
    "name": "ipython",
    "version": 3
   },
   "file_extension": ".py",
   "mimetype": "text/x-python",
   "name": "python",
   "nbconvert_exporter": "python",
   "pygments_lexer": "ipython3",
   "version": "3.7.7"
  },
  "varInspector": {
   "cols": {
    "lenName": 16,
    "lenType": 16,
    "lenVar": 40
   },
   "kernels_config": {
    "python": {
     "delete_cmd_postfix": "",
     "delete_cmd_prefix": "del ",
     "library": "var_list.py",
     "varRefreshCmd": "print(var_dic_list())"
    },
    "r": {
     "delete_cmd_postfix": ") ",
     "delete_cmd_prefix": "rm(",
     "library": "var_list.r",
     "varRefreshCmd": "cat(var_dic_list()) "
    }
   },
   "types_to_exclude": [
    "module",
    "function",
    "builtin_function_or_method",
    "instance",
    "_Feature"
   ],
   "window_display": false
  }
 },
 "nbformat": 4,
 "nbformat_minor": 2
}
